{
 "cells": [
  {
   "cell_type": "markdown",
   "id": "177e571b",
   "metadata": {},
   "source": [
    "<!--<div align=\"center\">Семинар № 5-->\n",
    "\n",
    "<div align=\"center\"><font color=#4682B4 size=5 face=\n",
    "                          \"segoe print\"><em><strong>Семинар № 1</strong></em></font></div>"
   ]
  },
  {
   "cell_type": "markdown",
   "id": "a59cba3b",
   "metadata": {},
   "source": [
    "<div class=\"alert alert-block alert-info\"><em>\n",
    "<b> Условие 1:</b><br>\n",
    "Оформляйте ноутбук, используя эти советы:\n",
    "</em></div>"
   ]
  },
  {
   "cell_type": "code",
   "execution_count": 1,
   "id": "c0013398",
   "metadata": {},
   "outputs": [
    {
     "data": {
      "text/markdown": [
       "<div class='alert alert-block alert-success'><em><b>Ответ:</b><br><br><font color=#800080 size=6 face='impact'>Номер задачи</font><font size=2>- заголовок 2<br><font color=#0000FF size=5 face='wide latin'>Номер подзадачи</font><font size=2'> - заголовок 3<br><font size=3'>Предоставленные наборы данных оформляйте, как код.</em></div>"
      ],
      "text/plain": [
       "<IPython.core.display.Markdown object>"
      ]
     },
     "execution_count": 1,
     "metadata": {},
     "output_type": "execute_result"
    }
   ],
   "source": [
    "import pandas as pd\n",
    "from IPython.display import Markdown as md\n",
    "\n",
    "md(\"<div class='alert alert-block alert-success'><em><b>Ответ:</b><br><br>\\\n",
    "<font color=#800080 size=6 face='impact'>Номер задачи</font><font size=2>- заголовок 2<br>\\\n",
    "<font color=#0000FF size=5 face='wide latin'>Номер подзадачи</font><font size=2'> - заголовок 3<br>\\\n",
    "<font size=3'>Предоставленные наборы данных оформляйте, как код.\\\n",
    "</em>\\\n",
    "</div>\")      "
   ]
  },
  {
   "cell_type": "markdown",
   "id": "a821ba54",
   "metadata": {},
   "source": [
    "***"
   ]
  },
  {
   "cell_type": "markdown",
   "id": "22f1659d",
   "metadata": {},
   "source": [
    "<div class=\"alert alert-block alert-info\"><em>\n",
    "<b> Условие 2: </b><br>\n",
    "На складе лежат разные фрукты в разном количестве.<br>\n",
    "Нужно написать функцию, которая на вход принимает любое количество названий фруктов и их количество,<br> а возвращает общее количество фруктов на складе.\n",
    "</em></div>"
   ]
  },
  {
   "cell_type": "code",
   "execution_count": 2,
   "id": "0bd7a3da",
   "metadata": {},
   "outputs": [
    {
     "data": {
      "text/plain": [
       "{'яблоки': 20, 'груши': 30, 'апельсины': 40, 'мандарины': 50}"
      ]
     },
     "execution_count": 2,
     "metadata": {},
     "output_type": "execute_result"
    }
   ],
   "source": [
    "f = ['яблоки', 'груши', 'апельсины', 'мандарины']\n",
    "w = [20, 30, 40 , 50]\n",
    "\n",
    "s = {f[i] : w[i] for i in range(len(f))} # Словарь с данными склада\n",
    "s"
   ]
  },
  {
   "cell_type": "code",
   "execution_count": 3,
   "id": "9c59f5fe",
   "metadata": {},
   "outputs": [],
   "source": [
    "def store(c:dict = {}) -> dict:\n",
    "    '''Выводит словарь склада. Если на вход подан словарь с новыми \n",
    "    данными, учитывает их при выводе.'''\n",
    "    for k in c:      \n",
    "        if k in s: s[k] += c[k]  # Если продукт есть на складе-суммирует остатки \n",
    "        else: s.update({k:c[k]}) # Если продукта нет-делает новую запись\n",
    "    return s    "
   ]
  },
  {
   "cell_type": "markdown",
   "id": "42c65694",
   "metadata": {},
   "source": [
    "<font size=\"2px\">Текущее состояние склада :"
   ]
  },
  {
   "cell_type": "code",
   "execution_count": 4,
   "id": "79b270f2",
   "metadata": {},
   "outputs": [
    {
     "data": {
      "text/plain": [
       "{'яблоки': 20, 'груши': 30, 'апельсины': 40, 'мандарины': 50}"
      ]
     },
     "execution_count": 4,
     "metadata": {},
     "output_type": "execute_result"
    }
   ],
   "source": [
    "store()"
   ]
  },
  {
   "cell_type": "markdown",
   "id": "184e5527",
   "metadata": {},
   "source": [
    "<font size=\"2px\">Cостояние склада с изменениями:"
   ]
  },
  {
   "cell_type": "code",
   "execution_count": 5,
   "id": "c70bc0f5",
   "metadata": {},
   "outputs": [
    {
     "data": {
      "text/plain": [
       "{'яблоки': 120, 'груши': 30, 'апельсины': 40, 'мандарины': 50, 'киви': 100}"
      ]
     },
     "execution_count": 5,
     "metadata": {},
     "output_type": "execute_result"
    }
   ],
   "source": [
    "store({'киви':100, 'яблоки':100})"
   ]
  },
  {
   "cell_type": "markdown",
   "id": "fff6c328",
   "metadata": {},
   "source": [
    "<font size=\"2px\">Результат покажем в формате **DataFrame**:"
   ]
  },
  {
   "cell_type": "code",
   "execution_count": 6,
   "id": "9b0a3021",
   "metadata": {},
   "outputs": [
    {
     "data": {
      "text/html": [
       "<div>\n",
       "<style scoped>\n",
       "    .dataframe tbody tr th:only-of-type {\n",
       "        vertical-align: middle;\n",
       "    }\n",
       "\n",
       "    .dataframe tbody tr th {\n",
       "        vertical-align: top;\n",
       "    }\n",
       "\n",
       "    .dataframe thead th {\n",
       "        text-align: right;\n",
       "    }\n",
       "</style>\n",
       "<table border=\"1\" class=\"dataframe\">\n",
       "  <thead>\n",
       "    <tr style=\"text-align: right;\">\n",
       "      <th></th>\n",
       "      <th>Название</th>\n",
       "      <th>Количество</th>\n",
       "    </tr>\n",
       "  </thead>\n",
       "  <tbody>\n",
       "    <tr>\n",
       "      <th>100</th>\n",
       "      <td>яблоки</td>\n",
       "      <td>120</td>\n",
       "    </tr>\n",
       "    <tr>\n",
       "      <th>101</th>\n",
       "      <td>груши</td>\n",
       "      <td>30</td>\n",
       "    </tr>\n",
       "    <tr>\n",
       "      <th>102</th>\n",
       "      <td>апельсины</td>\n",
       "      <td>40</td>\n",
       "    </tr>\n",
       "    <tr>\n",
       "      <th>103</th>\n",
       "      <td>мандарины</td>\n",
       "      <td>50</td>\n",
       "    </tr>\n",
       "    <tr>\n",
       "      <th>104</th>\n",
       "      <td>киви</td>\n",
       "      <td>100</td>\n",
       "    </tr>\n",
       "  </tbody>\n",
       "</table>\n",
       "</div>"
      ],
      "text/plain": [
       "      Название  Количество\n",
       "100     яблоки         120\n",
       "101      груши          30\n",
       "102  апельсины          40\n",
       "103  мандарины          50\n",
       "104       киви         100"
      ]
     },
     "execution_count": 6,
     "metadata": {},
     "output_type": "execute_result"
    }
   ],
   "source": [
    "name = [i for i in store().keys()]\n",
    "count = [j for j in store().values()]\n",
    "pd.DataFrame({'Название':name, 'Количество':count}, index=[id + 100 for id in range(len(store()))])"
   ]
  },
  {
   "cell_type": "markdown",
   "id": "70dffb67",
   "metadata": {},
   "source": [
    "<div class=\"alert alert-block alert-success\"><em>\n",
    "<b>Ответ:</b><br>\n",
    "Функция <b>store().</b></em>\n",
    "</div>\n",
    "\n",
    "***"
   ]
  },
  {
   "cell_type": "markdown",
   "id": "9dc01e01",
   "metadata": {},
   "source": [
    "<div class=\"alert alert-block alert-info\"><em>\n",
    "<b> Условие 3: </b><br>\n",
    "Дан список с затратами на рекламу.<br>\n",
    "Но в данных есть ошибки, некоторые затраты имеют отрицательную величину.<br>\n",
    "Удалите такие значения из списка и посчитайте суммарные затраты<br>\n",
    "[100, 125, -90, 345, 655, -1, 0, 200]<br>\n",
    "Используйте list comprehensions<br>\n",
    "</em></div>"
   ]
  },
  {
   "cell_type": "code",
   "execution_count": 7,
   "id": "c3b7999f",
   "metadata": {},
   "outputs": [
    {
     "data": {
      "text/markdown": [
       "<div class='alert alert-block alert-success'><em><b>Ответ:</b><br><font color=#0000FF size=5 face='mv boli'>Суммарные затраты равны:</font><font color=red size=5 face='Arial'>  1425.</font><br>"
      ],
      "text/plain": [
       "<IPython.core.display.Markdown object>"
      ]
     },
     "execution_count": 7,
     "metadata": {},
     "output_type": "execute_result"
    }
   ],
   "source": [
    "z_0 = [100, 125, -90, 345, 655, -1, 0, 200] # Исходный список\n",
    "\n",
    "z_1 = sum([i for i in z_0 if i > 0]) # Сумма элементов списка, составленного из\n",
    "                                     # положительных элементов исходного списка\n",
    "\n",
    "md(\"<div class='alert alert-block alert-success'><em><b>Ответ:</b><br>\\\n",
    "<font color=#0000FF size=5 face='mv boli'>Суммарные затраты равны:</font>\\\n",
    "<font color=red size=5 face='Arial'>  {}.</font><br>\".format(z_1))"
   ]
  },
  {
   "cell_type": "markdown",
   "id": "932567c8",
   "metadata": {},
   "source": [
    "***"
   ]
  },
  {
   "cell_type": "markdown",
   "id": "ff11c596",
   "metadata": {},
   "source": [
    "<div class=\"alert alert-block alert-info\"><em>\n",
    "<b> Условие 4: </b><br>\n",
    "Даны два списка.<br>\n",
    "Дата покупки :<br>\n",
    "['2021-09-14', '2021-12-15', '2021-09-08', '2021-12-05', '2021-10-09', '2021-09-30', '2021-12-22', '2021-11-29',<br>\n",
    "'2021-12-24', '2021-11-26', '2021-10-27', '2021-12-18', '2021-11-09', '2021-11-23', '2021-09-27', '2021-10-02',<br>\n",
    "'2021-12-27', '2021-09-20', '2021-12-13', '2021-11-01', '2021-11-09', '2021-12-06', '2021-12-08', '2021-10-09',<br>\n",
    "'2021-10-31', '2021-09-30', '2021-11-09', '2021-12-13', '2021-10-26', '2021-12-09']<br>\n",
    "Суммы покупок по датам :<br>\n",
    "[1270, 8413, 9028, 3703, 5739, 4095, 295, 4944, 5723, 3701, 4471, 651, 7037, 4274, 6275, 4988, 6930,<br>\n",
    " 2971, 6592, 2004, 2822, 519, 3406, 2732, 5015, 2008, 316, 6333, 5700, 2887]<br>\n",
    "</em></div>"
   ]
  },
  {
   "cell_type": "code",
   "execution_count": 8,
   "id": "a092ec4a",
   "metadata": {},
   "outputs": [],
   "source": [
    "date = ['2021-09-14', '2021-12-15', '2021-09-08', '2021-12-05', '2021-10-09', '2021-09-30',\\\n",
    "    '2021-12-22', '2021-11-29', '2021-12-24', '2021-11-26', '2021-10-27', '2021-12-18',\\\n",
    "    '2021-11-09', '2021-11-23', '2021-09-27', '2021-10-02', '2021-12-27', '2021-09-20',\\\n",
    "    '2021-12-13', '2021-11-01', '2021-11-09', '2021-12-06', '2021-12-08', '2021-10-09',\\\n",
    "    '2021-10-31', '2021-09-30', '2021-11-09', '2021-12-13', '2021-10-26', '2021-12-09']\n",
    "bye = [1270, 8413, 9028, 3703, 5739, 4095, 295, 4944, 5723, 3701, 4471, 651, 7037, 4274,\\\n",
    "       6275, 4988, 6930, 2971, 6592, 2004, 2822, 519, 3406, 2732, 5015, 2008, 316, 6333,\\\n",
    "       5700, 2887]"
   ]
  },
  {
   "cell_type": "markdown",
   "id": "29173c42",
   "metadata": {},
   "source": [
    "<font size=\"2px\">Создадим список списков отчёта **[[дата , выручка],...[дата , выручка]]** :"
   ]
  },
  {
   "cell_type": "code",
   "execution_count": 9,
   "id": "0c8ba955",
   "metadata": {},
   "outputs": [
    {
     "data": {
      "text/plain": [
       "30"
      ]
     },
     "execution_count": 9,
     "metadata": {},
     "output_type": "execute_result"
    }
   ],
   "source": [
    "report = [[date[i] , bye[i]] for i in range(min(len(date), len(bye)))]\n",
    "len(report)"
   ]
  },
  {
   "cell_type": "markdown",
   "id": "33bf97ab",
   "metadata": {},
   "source": [
    "<div class=\"alert alert-block alert-info\"><em>\n",
    "<b> Условие 4.1: </b><br>\n",
    "Найдите, какая выручка у компании в ноябре<br>\n",
    "Используйте list comprehensions<br>\n",
    "</em></div>"
   ]
  },
  {
   "cell_type": "markdown",
   "id": "d62311e0",
   "metadata": {},
   "source": [
    "<font size=\"2px\">Так как формат дат одинаков, проще всего найти значение месяца **срезом**.<br>\n",
    "Суммируем элементы списка значений выручки за ноябрь ('11') :"
   ]
  },
  {
   "cell_type": "code",
   "execution_count": 10,
   "id": "c16c2949",
   "metadata": {},
   "outputs": [
    {
     "data": {
      "text/markdown": [
       "<div class='alert alert-block alert-success'><em><b>Ответ:</b><br><font color=#0000FF size=5 face='mv boli'>Выручка у компании в ноябре равна:</font><font color=#800080 size=5 face='impact'>  25098.</font><br>"
      ],
      "text/plain": [
       "<IPython.core.display.Markdown object>"
      ]
     },
     "execution_count": 10,
     "metadata": {},
     "output_type": "execute_result"
    }
   ],
   "source": [
    "sm = sum([x[1] for x in report if x[0][5:7] == '11'])\n",
    "\n",
    "md(\"<div class='alert alert-block alert-success'><em><b>Ответ:</b><br>\\\n",
    "<font color=#0000FF size=5 face='mv boli'>Выручка у компании в ноябре равна:</font>\\\n",
    "<font color=#800080 size=5 face='impact'>  {}.</font><br>\".format(sm))"
   ]
  },
  {
   "cell_type": "markdown",
   "id": "3dcccca0",
   "metadata": {},
   "source": [
    "<div class=\"alert alert-block alert-info\"><em>\n",
    "<b> Условие 4.2: </b><br>\n",
    "Найдите выручку компании в зависимости от месяца.<br>\n",
    "Для этого напишите функцию, которая на вход принимает список с датами и список с выручкой,<br>\n",
    "а на выходе словарь, где ключи - это месяцы, а значения - это выручка.<br>\n",
    "Используйте аннотирование типов<br>\n",
    "</em></div>"
   ]
  },
  {
   "cell_type": "code",
   "execution_count": 11,
   "id": "db6152ab",
   "metadata": {},
   "outputs": [],
   "source": [
    "def res(d:list, v:list) -> dict:\n",
    "    '''Принимает на вход списки дат и выручки.\n",
    "    Возвращает словарь, где ключ-название месяца,\n",
    "    а значение-суммарная выручка.'''\n",
    "    mon = ['янв', 'фев', 'мар', 'апр', 'май', 'июн', 'июл', 'авг', 'сен', 'окт', 'ноя', 'дек']\n",
    "    nov = []\n",
    "    for i in range(len(date)):\n",
    "        nov.append(mon[int(date[i][5:7]) - 1]) # Список, где вместо дат названия месяцев\n",
    "        \n",
    "    rez_d = {}\n",
    "    for elm in set(nov): # Множество уникальных месяцев\n",
    "        rez_d[elm] = sum([bye[j] for j in range(len(nov)) if nov[j] == elm]) # Список \n",
    "                                                      #суммированной выручки по месяцам \n",
    "    return rez_d    "
   ]
  },
  {
   "cell_type": "code",
   "execution_count": 12,
   "id": "1491f8e1",
   "metadata": {},
   "outputs": [
    {
     "data": {
      "text/html": [
       "<div>\n",
       "<style scoped>\n",
       "    .dataframe tbody tr th:only-of-type {\n",
       "        vertical-align: middle;\n",
       "    }\n",
       "\n",
       "    .dataframe tbody tr th {\n",
       "        vertical-align: top;\n",
       "    }\n",
       "\n",
       "    .dataframe thead th {\n",
       "        text-align: right;\n",
       "    }\n",
       "</style>\n",
       "<table border=\"1\" class=\"dataframe\">\n",
       "  <thead>\n",
       "    <tr style=\"text-align: right;\">\n",
       "      <th></th>\n",
       "      <th>месяц</th>\n",
       "      <th>выручка</th>\n",
       "    </tr>\n",
       "  </thead>\n",
       "  <tbody>\n",
       "    <tr>\n",
       "      <th>0</th>\n",
       "      <td>сен</td>\n",
       "      <td>25647</td>\n",
       "    </tr>\n",
       "    <tr>\n",
       "      <th>1</th>\n",
       "      <td>окт</td>\n",
       "      <td>28645</td>\n",
       "    </tr>\n",
       "    <tr>\n",
       "      <th>2</th>\n",
       "      <td>ноя</td>\n",
       "      <td>25098</td>\n",
       "    </tr>\n",
       "    <tr>\n",
       "      <th>3</th>\n",
       "      <td>дек</td>\n",
       "      <td>45452</td>\n",
       "    </tr>\n",
       "  </tbody>\n",
       "</table>\n",
       "</div>"
      ],
      "text/plain": [
       "  месяц  выручка \n",
       "0   сен     25647\n",
       "1   окт     28645\n",
       "2   ноя     25098\n",
       "3   дек     45452"
      ]
     },
     "execution_count": 12,
     "metadata": {},
     "output_type": "execute_result"
    }
   ],
   "source": [
    "pd.DataFrame(res(date, bye).items(), columns = ['месяц', 'выручка '])"
   ]
  },
  {
   "cell_type": "code",
   "execution_count": 13,
   "id": "c540397f",
   "metadata": {},
   "outputs": [
    {
     "data": {
      "text/markdown": [
       "<div class='alert alert-block alert-success'><em><b>Ответ:</b><br><font color=#0000FF size=5 face='mv boli'>Затраты равны:</font><br><br><font color=red size=4 face='Arial'>  {'сен': 25647, 'окт': 28645, 'ноя': 25098, 'дек': 45452}.</font><br>"
      ],
      "text/plain": [
       "<IPython.core.display.Markdown object>"
      ]
     },
     "execution_count": 13,
     "metadata": {},
     "output_type": "execute_result"
    }
   ],
   "source": [
    "md(\"<div class='alert alert-block alert-success'><em><b>Ответ:</b><br>\\\n",
    "<font color=#0000FF size=5 face='mv boli'>Затраты равны:</font><br><br>\\\n",
    "<font color=red size=4 face='Arial'>  {}.</font><br>\".format(res(date, bye)))"
   ]
  }
 ],
 "metadata": {
  "kernelspec": {
   "display_name": "Python 3",
   "language": "python",
   "name": "python3"
  },
  "language_info": {
   "codemirror_mode": {
    "name": "ipython",
    "version": 3
   },
   "file_extension": ".py",
   "mimetype": "text/x-python",
   "name": "python",
   "nbconvert_exporter": "python",
   "pygments_lexer": "ipython3",
   "version": "3.8.8"
  }
 },
 "nbformat": 4,
 "nbformat_minor": 5
}
